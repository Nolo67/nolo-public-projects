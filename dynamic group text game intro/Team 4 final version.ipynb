{
 "cells": [
  {
   "cell_type": "markdown",
   "id": "9b0bc434",
   "metadata": {},
   "source": [
    "#  Team 4"
   ]
  },
  {
   "cell_type": "markdown",
   "id": "308ae871",
   "metadata": {},
   "source": [
    "Meet our dynamic, global team, Team 4 has a vibrant blend of cultures and expertise from five corners of the world. From Brazil, we have Andre, an innovative strategist who turns data into actionable insights with precision. Fun fact:Andre likes to hum a catchy song by a German band- he speak zero German\n",
    "Kaylee from South korea brings her analytical rigor, ensuring every project is optimized for efficiency and success. Fun fact: Kaylee loves crocs, has at least 3 pairs even though they're bad for her knees\n",
    "Representing Peru is Juan whose creative problem-solving and design thinking abilities infuse every challenge with fresh perspectives. Fun fact: Loves video games and has encyclopedic knowledge of video game history\n",
    "Nolo from South africa is Team 4's tech visionary, driving forward-thinking solutions with a passion for innovation and a penchant for project management. Fun fact:Nolo has way too many shoes but wears two maybe three pairs out of her collection\n",
    "Lastly, Tamuka from Zimbabwe is a master at connecting the dots, seamlessly integrating diverse ideas into cohesive strategies. Fun fact:Tamuka Has a laptop with possibly the best form factor, the Lenovo Yoga\n"
   ]
  },
  {
   "cell_type": "code",
   "execution_count": 1,
   "id": "e0c94cce",
   "metadata": {
    "scrolled": true
   },
   "outputs": [
    {
     "name": "stdout",
     "output_type": "stream",
     "text": [
      "What is your team name? Bomb\n",
      "Meet our dynamic, global team, Bomb has a vibrant blend of cultures and expertise from five corners of the world\n",
      "Please Enter Your Name (or type 'continue' to print the list): Nolo\n",
      "Where are you from Nolo: South Africa\n",
      "Please Enter Your Name (or type 'continue' to print the list): Sarah\n",
      "Where are you from Sarah: France\n",
      "Error: Sarah from France is not a valid team member. Please try again.\n",
      "Please Enter Your Name: Neo\n",
      "Where are you from Neo: Zim\n",
      "Error: Neo from Zim is not a valid team member. Moving to the next member.\n",
      "Please Enter Your Name (or type 'continue' to print the list): Gugu\n",
      "Where are you from Gugu: Wales\n",
      "Error: Gugu from Wales is not a valid team member. Please try again.\n",
      "Please Enter Your Name: Bob\n",
      "Where are you from Bob: Bikini Bottom\n",
      "Error: Bob from Bikini bottom is not a valid team member. Moving to the next member.\n",
      "Please Enter Your Name (or type 'continue' to print the list): Tamuka\n",
      "Where are you from Tamuka: Zimbabwe\n",
      "Please Enter Your Name (or type 'continue' to print the list): Kaylee\n",
      "Where are you from Kaylee: South Korea\n",
      "Please Enter Your Name (or type 'continue' to print the list): Juan\n",
      "Where are you from Juan: Peru\n",
      "Please Enter Your Name (or type 'continue' to print the list): Andre\n",
      "Where are you from Andre: Brazil\n",
      "Please Enter Your Name (or type 'continue' to print the list): continue\n",
      "From Brazil, we have Andre, an innovative strategist who turns data into actionable insights with precision. Fun fact:Andre likes to hum a catchy song by a German band- he speak zero German\n",
      "Kaylee from South korea brings her analytical rigor, ensuring every project is optimized for efficiency and success. Fun fact: Kaylee loves crocs, has at least 3 pairs even though they're bad for her knees\n",
      "Representing Peru is Juan whose creative problem-solving and design thinking abilities infuse every challenge with fresh perspectives. Fun fact: Loves video games and has encyclopedic knowledge of video game history\n",
      "Nolo from South africa is Bomb's tech visionary, driving forward-thinking solutions with a passion for innovation and a penchant for project management. Fun fact:Nolo has way too many shoes but wears two maybe three pairs out of her collection\n",
      "Lastly, Tamuka from Zimbabwe is a master at connecting the dots, seamlessly integrating diverse ideas into cohesive strategies. Fun fact:Tamuka Has a laptop with possibly the best form factor, the Lenovo Yoga\n"
     ]
    }
   ],
   "source": [
    "import time\n",
    "import sys\n",
    "\n",
    "# Function to print text with a typing effect\n",
    "def type_text(text, delay=0.02):\n",
    "    for char in text:\n",
    "        sys.stdout.write(char)\n",
    "        sys.stdout.flush()\n",
    "        time.sleep(delay)\n",
    "    print()  # Move to the next line after the text is printed\n",
    "\n",
    "# Prompt to enter team name\n",
    "team_name = input(\"What is your team name? \")\n",
    "\n",
    "type_text(f'Meet our dynamic, global team, {team_name} has a vibrant blend of cultures and expertise from five corners of the world')\n",
    "team_members = []\n",
    "\n",
    "# Predefined list of valid names, their corresponding countries, and fun facts\n",
    "valid_members = {\n",
    "    'Andre': {'country': 'Brazil', 'fun_fact': 'likes to hum a catchy song by a German band- he speak zero German'},\n",
    "    'Kaylee': {'country': 'South Korea', 'fun_fact': 'loves crocs, has at least 3 pairs even though they\\'re bad for her knees'},\n",
    "    'Juan': {'country': 'Peru', 'fun_fact': 'Loves video games and has encyclopedic knowledge of video game history'},\n",
    "    'Nolo': {'country': 'South Africa', 'fun_fact': 'has way too many shoes but wears two maybe three pairs out of her collection'},\n",
    "    'Tamuka': {'country': 'Zimbabwe', 'fun_fact': 'Has a laptop with possibly the best form factor, the Lenovo Yoga'}\n",
    "}\n",
    "\n",
    "# Predefined order for printing\n",
    "print_order = ['Andre', 'Kaylee', 'Juan', 'Nolo', 'Tamuka']\n",
    "\n",
    "# Special phrase to print the list early\n",
    "special_phrase = \"continue\"\n",
    "\n",
    "# Create a list of team members- theres 10 attempts. if you make no mistake you type print now in the prompt to initiate the next code\n",
    "for i in range(10):\n",
    "    name = input(f\"Please Enter Your Name (or type '{special_phrase}' to print the list): \").strip().capitalize()\n",
    "    \n",
    "    if name.lower() == special_phrase:\n",
    "        break\n",
    "    \n",
    "    country = input(f\"Where are you from {name}: \").strip().capitalize()\n",
    "    \n",
    "    # Check if the name and country match the predefined list\n",
    "    if name in valid_members and valid_members[name]['country'].lower() == country.lower():\n",
    "        fun_fact = valid_members[name]['fun_fact']\n",
    "        team_members.append({'name': name, 'country': country, 'fun_fact': fun_fact})\n",
    "    else:\n",
    "        print(f\"Error: {name} from {country} is not a valid team member. Please try again.\")\n",
    "        # Re-prompt the user within the same iteration\n",
    "        name = input(\"Please Enter Your Name: \").strip().capitalize()\n",
    "        country = input(f\"Where are you from {name}: \").strip().capitalize()\n",
    "        if name in valid_members and valid_members[name]['country'].lower() == country.lower():\n",
    "            fun_fact = valid_members[name]['fun_fact']\n",
    "            team_members.append({'name': name, 'country': country, 'fun_fact': fun_fact})\n",
    "        else:\n",
    "            print(f\"Error: {name} from {country} is not a valid team member. Moving to the next member.\")\n",
    "\n",
    "# Sort the team members based on the predefined order\n",
    "team_members_sorted = sorted(team_members, key=lambda member: print_order.index(member['name']))\n",
    "\n",
    "\n",
    "# Dynamically references each team member with specific descriptions with a typing effect\n",
    "for member in team_members_sorted:\n",
    "    if member['name'] == 'Andre':\n",
    "        type_text(f\"From {member['country']}, we have {member['name']}, an innovative strategist who turns data into actionable insights with precision. Fun fact:{member['name']} {member['fun_fact']}\")\n",
    "    elif member['name'] == 'Kaylee':\n",
    "        type_text(f\"{member['name']} from {member['country']} brings her analytical rigor, ensuring every project is optimized for efficiency and success. Fun fact: {member['name']} {member['fun_fact']}\")\n",
    "    elif member['name'] == 'Juan':\n",
    "        type_text(f\"Representing {member['country']} is {member['name']} whose creative problem-solving and design thinking abilities infuse every challenge with fresh perspectives. Fun fact: {member['fun_fact']}\")\n",
    "    elif member['name'] == 'Nolo':\n",
    "        type_text(f\"{member['name']} from {member['country']} is {team_name}'s tech visionary, driving forward-thinking solutions with a passion for innovation and a penchant for project management. Fun fact:{member['name']} {member['fun_fact']}\")\n",
    "    elif member['name'] == 'Tamuka':\n",
    "        type_text(f\"Lastly, {member['name']} from {member['country']} is a master at connecting the dots, seamlessly integrating diverse ideas into cohesive strategies. Fun fact:{member['name']} {member['fun_fact']}\")\n",
    "    else:\n",
    "        type_text(f\"{member['name']} from {member['country']} is not yet a member of {team_name}. However, they can be with a small fee of dancing in front of the whole MBAN cohort for 2 minutes.\")\n",
    "    time.sleep(1)  # Pause for 1 second between each member\n"
   ]
  },
  {
   "cell_type": "code",
   "execution_count": null,
   "id": "614a3e6b",
   "metadata": {},
   "outputs": [],
   "source": []
  }
 ],
 "metadata": {
  "kernelspec": {
   "display_name": "Python 3 (ipykernel)",
   "language": "python",
   "name": "python3"
  },
  "language_info": {
   "codemirror_mode": {
    "name": "ipython",
    "version": 3
   },
   "file_extension": ".py",
   "mimetype": "text/x-python",
   "name": "python",
   "nbconvert_exporter": "python",
   "pygments_lexer": "ipython3",
   "version": "3.11.0"
  },
  "toc": {
   "base_numbering": 1,
   "nav_menu": {},
   "number_sections": true,
   "sideBar": true,
   "skip_h1_title": false,
   "title_cell": "Table of Contents",
   "title_sidebar": "Contents",
   "toc_cell": false,
   "toc_position": {},
   "toc_section_display": true,
   "toc_window_display": false
  },
  "varInspector": {
   "cols": {
    "lenName": 16,
    "lenType": 16,
    "lenVar": 40
   },
   "kernels_config": {
    "python": {
     "delete_cmd_postfix": "",
     "delete_cmd_prefix": "del ",
     "library": "var_list.py",
     "varRefreshCmd": "print(var_dic_list())"
    },
    "r": {
     "delete_cmd_postfix": ") ",
     "delete_cmd_prefix": "rm(",
     "library": "var_list.r",
     "varRefreshCmd": "cat(var_dic_list()) "
    }
   },
   "types_to_exclude": [
    "module",
    "function",
    "builtin_function_or_method",
    "instance",
    "_Feature"
   ],
   "window_display": false
  }
 },
 "nbformat": 4,
 "nbformat_minor": 5
}
